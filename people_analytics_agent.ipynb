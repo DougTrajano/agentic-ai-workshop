{
 "cells": [
  {
   "cell_type": "markdown",
   "id": "0",
   "metadata": {},
   "source": [
    "# People Analytics Agent\n",
    "\n",
    "[![Open In Colab](https://colab.research.google.com/assets/colab-badge.svg)](https://colab.research.google.com/github/DougTrajano/agentic-ai-workshop/blob/main/people_analytics_agent.ipynb)\n",
    "\n",
    "In this notebook, we will create a People Analytics Agent that can interact with a HR database."
   ]
  },
  {
   "cell_type": "markdown",
   "id": "1",
   "metadata": {},
   "source": [
    "## Set up Environment"
   ]
  },
  {
   "cell_type": "code",
   "execution_count": 1,
   "id": "2",
   "metadata": {},
   "outputs": [],
   "source": [
    "# %pip install -U pydantic pydantic-settings datasets\n",
    "\n",
    "# chainlit==2.8.1\n",
    "# langchain_community==0.3.30\n",
    "# langchain_core==0.3.78\n",
    "# langchain_openai==0.3.34\n",
    "# langgraph==0.6.8\n",
    "# numexpr==2.11.0\n",
    "# pandas==2.3.3\n",
    "# plotly==6.3.0\n",
    "# pydantic==2.11.10\n",
    "# pydantic_settings==2.11.0\n",
    "# SQLAlchemy==2.0.43\n"
   ]
  },
  {
   "cell_type": "code",
   "execution_count": 2,
   "id": "2ed17352",
   "metadata": {},
   "outputs": [],
   "source": [
    "import mlflow\n",
    "\n",
    "\n",
    "mlflow.openai.autolog()\n",
    "mlflow.langchain.autolog()"
   ]
  },
  {
   "cell_type": "markdown",
   "id": "3db37a2e",
   "metadata": {},
   "source": [
    "## Load Parameters"
   ]
  },
  {
   "cell_type": "code",
   "execution_count": 3,
   "id": "30c0d17c",
   "metadata": {},
   "outputs": [],
   "source": [
    "from pydantic import BaseModel, Field, field_validator\n",
    "from pydantic_settings import BaseSettings\n",
    "\n",
    "\n",
    "class Settings(BaseSettings):\n",
    "    \"\"\"People Analytics Agent Settings.\"\"\"\n",
    "\n",
    "    HF_TOKEN: str = Field(\n",
    "        ...,\n",
    "        description=\"Hugging Face API token for accessing private resources.\",\n",
    "    )\n",
    "\n",
    "    HF_DATASET_NAME: str = Field(\n",
    "        default=\"dougtrajano/hr-synthetic-database\",\n",
    "        description=\"The name of the Hugging Face dataset to load.\",\n",
    "    )\n",
    "\n",
    "settings = Settings()"
   ]
  },
  {
   "cell_type": "markdown",
   "id": "e21c76d3",
   "metadata": {},
   "source": [
    "## Load HR Synthetic Database\n",
    "\n",
    "In this section, we will load the [dougtrajano/hr-synthetic-database](https://huggingface.co/dougtrajano/hr-synthetic-database) dataset from Hugging Face Datasets. This dataset contains synthetic HR data including business units, departments, jobs, employees, and compensations.\n",
    "\n",
    "We can use the [load_dataset()](https://huggingface.co/docs/datasets/v4.3.0/en/package_reference/loading_methods#datasets.load_dataset) function from the [datasets](https://huggingface.co/docs/datasets/) library to load the dataset."
   ]
  },
  {
   "cell_type": "code",
   "execution_count": 4,
   "id": "e3832ee1",
   "metadata": {},
   "outputs": [],
   "source": [
    "from datasets import load_dataset\n",
    "\n",
    "\n",
    "business_units = load_dataset(settings.HF_DATASET_NAME, 'business_units')\n",
    "departments = load_dataset(settings.HF_DATASET_NAME, 'departments')\n",
    "jobs = load_dataset(settings.HF_DATASET_NAME, 'jobs')\n",
    "employees = load_dataset(settings.HF_DATASET_NAME, 'employees')\n",
    "compensations = load_dataset(settings.HF_DATASET_NAME, 'compensations')"
   ]
  },
  {
   "cell_type": "markdown",
   "id": "8b06b1fa",
   "metadata": {},
   "source": [
    "### Convert to Pandas DataFrames"
   ]
  },
  {
   "cell_type": "code",
   "execution_count": 5,
   "id": "3dd115dc",
   "metadata": {},
   "outputs": [],
   "source": [
    "import numpy as np\n",
    "import pandas as pd\n",
    "\n",
    "\n",
    "def clean_huggingface_nulls(df: pd.DataFrame) -> pd.DataFrame:\n",
    "    \"\"\"\n",
    "    Clean Hugging Face dataset string representations of NULL values.\n",
    "\n",
    "    Hugging Face datasets may contain string 'None' or empty strings instead\n",
    "    of actual NULL values. This function replaces them with np.nan for proper\n",
    "    NULL handling in PostgreSQL.\n",
    "\n",
    "    Parameters:\n",
    "    df (pd.DataFrame): Input DataFrame with potential string NULL values.\n",
    "\n",
    "    Returns:\n",
    "    pd.DataFrame: Cleaned DataFrame with proper NULL values.\n",
    "    \"\"\"\n",
    "    df_clean = df.copy()\n",
    "    for col in df_clean.columns:\n",
    "        df_clean[col] = df_clean[col].replace(['None', ''], np.nan)\n",
    "    return df_clean"
   ]
  },
  {
   "cell_type": "code",
   "execution_count": 6,
   "id": "a3e252a9",
   "metadata": {},
   "outputs": [
    {
     "name": "stdout",
     "output_type": "stream",
     "text": [
      "Business Units: (4, 4)\n",
      "Departments: (17, 5)\n",
      "Jobs: (94, 7)\n",
      "Employees: (15700, 12)\n",
      "Compensations: (15700, 7)\n"
     ]
    }
   ],
   "source": [
    "# Convert Hugging Face datasets to Pandas DataFrames\n",
    "df_business_units = clean_huggingface_nulls(\n",
    "    business_units['train'].to_pandas()\n",
    ")\n",
    "df_departments = clean_huggingface_nulls(\n",
    "    departments['train'].to_pandas()\n",
    ")\n",
    "df_jobs = clean_huggingface_nulls(\n",
    "    jobs['train'].to_pandas()\n",
    ")\n",
    "df_employees = clean_huggingface_nulls(\n",
    "    employees['train'].to_pandas()\n",
    ")\n",
    "df_compensations = clean_huggingface_nulls(\n",
    "    compensations['train'].to_pandas()\n",
    ")\n",
    "\n",
    "\n",
    "print(f\"Business Units: {df_business_units.shape}\")\n",
    "print(f\"Departments: {df_departments.shape}\")\n",
    "print(f\"Jobs: {df_jobs.shape}\")\n",
    "print(f\"Employees: {df_employees.shape}\")\n",
    "print(f\"Compensations: {df_compensations.shape}\")"
   ]
  },
  {
   "cell_type": "markdown",
   "id": "6c54833e",
   "metadata": {},
   "source": [
    "### Load DataFrames into SQLite"
   ]
  },
  {
   "cell_type": "code",
   "execution_count": 7,
   "id": "01490f94",
   "metadata": {},
   "outputs": [
    {
     "name": "stdout",
     "output_type": "stream",
     "text": [
      "Tables in SQLite:\n",
      "[('business_units',), ('departments',), ('jobs',), ('employees',), ('compensations',)]\n"
     ]
    }
   ],
   "source": [
    "import sqlite3\n",
    "\n",
    "from sqlalchemy import create_engine\n",
    "\n",
    "\n",
    "# Create an in-memory SQLite connection\n",
    "conn = sqlite3.connect(':memory:', check_same_thread=False)\n",
    "\n",
    "# Create SQLAlchemy engine for the SQL toolkit\n",
    "db_engine = create_engine('sqlite:///:memory:', creator=lambda: conn)\n",
    "\n",
    "# Create tables in SQLite from the DataFrames\n",
    "df_business_units.to_sql('business_units', conn, index=False, if_exists='replace')\n",
    "df_departments.to_sql('departments', conn, index=False, if_exists='replace')\n",
    "df_jobs.to_sql('jobs', conn, index=False, if_exists='replace')\n",
    "df_employees.to_sql('employees', conn, index=False, if_exists='replace')\n",
    "df_compensations.to_sql('compensations', conn, index=False, if_exists='replace')\n",
    "\n",
    "# Verify the tables were created\n",
    "cursor = conn.cursor()\n",
    "cursor.execute(\"SELECT name FROM sqlite_master WHERE type='table';\")\n",
    "print(\"Tables in SQLite:\")\n",
    "print(cursor.fetchall())"
   ]
  },
  {
   "cell_type": "markdown",
   "id": "ac8bc4d8",
   "metadata": {},
   "source": [
    "## Compile People Analytics Agent"
   ]
  },
  {
   "cell_type": "markdown",
   "id": "5a01ecdc",
   "metadata": {},
   "source": [
    "### Load the LLM"
   ]
  },
  {
   "cell_type": "code",
   "execution_count": 8,
   "id": "d8afa434",
   "metadata": {},
   "outputs": [],
   "source": [
    "from langchain_openai import ChatOpenAI\n",
    "\n",
    "\n",
    "llm = ChatOpenAI(model='gpt-4o')"
   ]
  },
  {
   "cell_type": "markdown",
   "id": "1c05f72c",
   "metadata": {},
   "source": [
    "### Define Agent Tools"
   ]
  },
  {
   "cell_type": "code",
   "execution_count": 9,
   "id": "56ef4227",
   "metadata": {},
   "outputs": [],
   "source": [
    "import datetime\n",
    "import math\n",
    "\n",
    "import numexpr\n",
    "\n",
    "\n",
    "def calculator(expression: str) -> str:\n",
    "    \"\"\"Calculate expression using Python's numexpr library.\n",
    "\n",
    "    Expression should be a single line mathematical expression\n",
    "    that solves the problem.\n",
    "\n",
    "    Examples:\n",
    "        \"37593 * 67\" for \"37593 times 67\"\n",
    "        \"37593**(1/5)\" for \"37593^(1/5)\"\n",
    "    \"\"\"\n",
    "    local_dict = {'pi': math.pi, 'e': math.e}\n",
    "    return str(\n",
    "        numexpr.evaluate(\n",
    "            expression.strip(),\n",
    "            global_dict={},  # restrict access to globals\n",
    "            local_dict=local_dict,  # add common mathematical functions\n",
    "        )\n",
    "    )\n",
    "\n",
    "def get_today_date() -> str:\n",
    "    \"\"\"Get today's date in YYYY-MM-DD format.\"\"\"\n",
    "    return datetime.date.today().isoformat()"
   ]
  },
  {
   "cell_type": "code",
   "execution_count": 10,
   "id": "18b3ad33",
   "metadata": {},
   "outputs": [
    {
     "name": "stdout",
     "output_type": "stream",
     "text": [
      "Available tables: ['business_units', 'compensations', 'departments', 'employees', 'jobs']\n"
     ]
    }
   ],
   "source": [
    "from langchain_community.agent_toolkits.sql.toolkit import SQLDatabaseToolkit\n",
    "from langchain_community.utilities import SQLDatabase\n",
    "\n",
    "\n",
    "db = SQLDatabase(engine=db_engine)\n",
    "toolkit = SQLDatabaseToolkit(db=db, llm=llm)\n",
    "sql_tools = toolkit.get_tools()\n",
    "\n",
    "print(f\"Available tables: {db.get_usable_table_names()}\")"
   ]
  },
  {
   "cell_type": "code",
   "execution_count": 11,
   "id": "abb1ef9d",
   "metadata": {},
   "outputs": [],
   "source": [
    "tools = [calculator, get_today_date] + sql_tools"
   ]
  },
  {
   "cell_type": "markdown",
   "id": "3231a707",
   "metadata": {},
   "source": [
    "### Define System Prompt"
   ]
  },
  {
   "cell_type": "code",
   "execution_count": 12,
   "id": "db87246e",
   "metadata": {},
   "outputs": [],
   "source": [
    "def get_system_prompt(dialect: str, top_k: int = 5) -> str:\n",
    "    \"\"\"Get the system prompt for the agent.\n",
    "\n",
    "    Args:\n",
    "        dialect (str): The SQL dialect of the database.\n",
    "        top_k (int): The maximum number of results to return.\n",
    "\n",
    "    Returns:\n",
    "        str: The system prompt.\n",
    "    \"\"\"\n",
    "\n",
    "    system_prompt = \"\"\"\n",
    "    You are an agent designed to interact with a SQL database.\n",
    "    Given an input question, create a syntactically correct {dialect} query to run,\n",
    "    then look at the results of the query and return the answer. Unless the user\n",
    "    specifies a specific number of examples they wish to obtain, always limit your\n",
    "    query to at most {top_k} results.\n",
    "\n",
    "    You can order the results by a relevant column to return the most interesting\n",
    "    examples in the database. Never query for all the columns from a specific table,\n",
    "    only ask for the relevant columns given the question.\n",
    "\n",
    "    You MUST double check your query before executing it. If you get an error while\n",
    "    executing a query, rewrite the query and try again.\n",
    "\n",
    "    DO NOT make any DML statements (INSERT, UPDATE, DELETE, DROP etc.) to the\n",
    "    database.\n",
    "\n",
    "    To start you should ALWAYS look at the tables in the database to see what you\n",
    "    can query. Do NOT skip this step.\n",
    "\n",
    "    Then you should query the schema of the most relevant tables.\n",
    "    \"\"\"\n",
    "\n",
    "    return system_prompt.format(\n",
    "        dialect=dialect,\n",
    "        top_k=top_k,\n",
    "    )\n",
    "\n",
    "\n",
    "system_prompt = get_system_prompt(dialect=db.dialect, top_k=5)"
   ]
  },
  {
   "cell_type": "markdown",
   "id": "fdd02173",
   "metadata": {},
   "source": [
    "### Define Response Format"
   ]
  },
  {
   "cell_type": "code",
   "execution_count": null,
   "id": "e0ab0fd3",
   "metadata": {},
   "outputs": [],
   "source": [
    "import sqlparse\n",
    "\n",
    "\n",
    "class AgentOutput(BaseModel):\n",
    "    \"\"\"Agent response containing analysis summary, SQL query, dataset, and an optional Plotly JSON Chart.\"\"\"\n",
    "\n",
    "    summary: str = Field(\n",
    "        ...,\n",
    "        description=(\n",
    "            \"Natural language answer with key findings and specific details. \"\n",
    "            \"Example: 'The Sales department has 150 employees.'\"\n",
    "        ),\n",
    "    )\n",
    "\n",
    "    sql_query: str | None = Field(\n",
    "        default=None,\n",
    "        description=(\n",
    "            \"SQL query executed to retrieve data. \"\n",
    "            \"Example: 'SELECT AVG(Salary), MIN(Salary), MAX(Salary) FROM employees;'\"\n",
    "        ),\n",
    "    )\n",
    "\n",
    "    dataset: str | None = Field(\n",
    "        default=None,\n",
    "        description=(\n",
    "            \"JSON representation of query results, pandas-compatible format. \"\n",
    "            'Example: \\'{\"data\": [[120000, 70000, 210000]], \"columns\": [\"avg_salary\", \"min_salary\", \"max_salary\"]}\\''\n",
    "        ),\n",
    "    )\n",
    "\n",
    "    plotly_json_fig: str | None = Field(\n",
    "        default=None,\n",
    "        description=(\n",
    "            'A Plotly JSON figure representation for visualizing the dataset. '\n",
    "            'Also include this field when a graphical representation of the data is helpful. '\n",
    "            \"IMPORTANT: Always include data labels on the chart by setting 'text' in the trace \"\n",
    "            \"and 'textposition' to display values on the bars/points. \"\n",
    "            \"For bar charts, use 'textposition': 'auto' or 'outside'. \"\n",
    "            \"For scatter plots, use 'mode': 'markers+text'. \"\n",
    "            'Example: \\'{\"data\": [{\"type\": \"bar\", \"x\": [\"A\", \"B\"], \"y\": [10, 20], '\n",
    "            '\"text\": [10, 20], \"textposition\": \"auto\"}], '\n",
    "            '\"layout\": {\"title\": \"Sample Bar Chart\"}}\\''\n",
    "        ),\n",
    "    )\n",
    "\n",
    "    @field_validator('sql_query')\n",
    "    @classmethod\n",
    "    def format_sql_query(cls, v: str | None) -> str | None:\n",
    "        \"\"\"Format SQL query by removing common leading whitespace.\"\"\"\n",
    "        if v is None:\n",
    "            return None\n",
    "        return sqlparse.format(v, reindent=True, keyword_case='upper', indent_width=4).strip()\n",
    "\n",
    "    def get_message(self) -> str:\n",
    "        \"\"\"Get a user-friendly message summarizing the agent's response.\"\"\"\n",
    "        message = self.summary\n",
    "        if self.sql_query:\n",
    "            message += f'\\n\\nSQL Query Executed:\\n```sql\\n{self.sql_query}\\n```'\n",
    "        return message\n"
   ]
  },
  {
   "cell_type": "markdown",
   "id": "759281c4",
   "metadata": {},
   "source": [
    "### Define LangChain Agent"
   ]
  },
  {
   "cell_type": "code",
   "execution_count": 14,
   "id": "427c0254",
   "metadata": {},
   "outputs": [],
   "source": [
    "from langchain.agents import create_agent\n",
    "\n",
    "\n",
    "agent = create_agent(\n",
    "    model=llm,\n",
    "    tools=tools,\n",
    "    system_prompt=system_prompt,\n",
    "    response_format=AgentOutput,\n",
    ")"
   ]
  },
  {
   "cell_type": "markdown",
   "id": "50ccd536",
   "metadata": {},
   "source": [
    "### Test Agent"
   ]
  },
  {
   "cell_type": "code",
   "execution_count": 17,
   "id": "64a280b8",
   "metadata": {},
   "outputs": [
    {
     "name": "stdout",
     "output_type": "stream",
     "text": [
      "================================\u001b[1m Human Message \u001b[0m=================================\n",
      "\n",
      "show the number of employees by business unit\n",
      "==================================\u001b[1m Ai Message \u001b[0m==================================\n",
      "Tool Calls:\n",
      "  sql_db_list_tables (call_pqQ2DIPqWr2IN5MxOJ7RL205)\n",
      " Call ID: call_pqQ2DIPqWr2IN5MxOJ7RL205\n",
      "  Args:\n",
      "=================================\u001b[1m Tool Message \u001b[0m=================================\n",
      "Name: sql_db_list_tables\n",
      "\n",
      "business_units, compensations, departments, employees, jobs\n",
      "==================================\u001b[1m Ai Message \u001b[0m==================================\n",
      "Tool Calls:\n",
      "  sql_db_schema (call_bCdGeISy7zDSe8eGMiIqNqFQ)\n",
      " Call ID: call_bCdGeISy7zDSe8eGMiIqNqFQ\n",
      "  Args:\n",
      "    table_names: business_units, employees\n",
      "=================================\u001b[1m Tool Message \u001b[0m=================================\n",
      "Name: sql_db_schema\n",
      "\n",
      "\n",
      "CREATE TABLE business_units (\n",
      "\tid TEXT, \n",
      "\tname TEXT, \n",
      "\tdescription TEXT, \n",
      "\tdirector_job_id TEXT\n",
      ")\n",
      "\n",
      "/*\n",
      "3 rows from business_units table:\n",
      "id\tname\tdescription\tdirector_job_id\n",
      "b1a0e1f2-1111-4c1a-9a10-0001d0b00101\tDomestic Retail Division\tOversees all retail formats in the home market, including supercenters, supermarkets, and discount s\td1b2c3d4-0001-4e01-9000-000000000001\n",
      "b1a0e1f2-2222-4c1a-9a10-0001d0b00102\tInternational Markets Division\tManages international retail formats and regional marketplaces in EMEA, APAC, and LATAM.\td1b2c3d4-0002-4e01-9000-000000000002\n",
      "ad21e882-b9e3-4200-8758-ba76115ee877\tMembership-Based Wholesale Club Division\tFocuses on operations and strategies for membership-based wholesale clubs and cash-and-carry operati\t6195c1ec-3eea-4a84-b2c8-b0a83770f6e0\n",
      "*/\n",
      "\n",
      "\n",
      "CREATE TABLE employees (\n",
      "\tid TEXT, \n",
      "\tjob_id TEXT, \n",
      "\tdepartment_id TEXT, \n",
      "\tbusiness_unit_id TEXT, \n",
      "\tfirst_name TEXT, \n",
      "\tlast_name TEXT, \n",
      "\tbirth_date TEXT, \n",
      "\tgender TEXT, \n",
      "\tethnicity TEXT, \n",
      "\teducation_level TEXT, \n",
      "\teducation_field TEXT, \n",
      "\tgeneration TEXT\n",
      ")\n",
      "\n",
      "/*\n",
      "3 rows from employees table:\n",
      "id\tjob_id\tdepartment_id\tbusiness_unit_id\tfirst_name\tlast_name\tbirth_date\tgender\tethnicity\teducation_level\teducation_field\tgeneration\n",
      "c7321b1a-91d9-11f0-87f9-e235d39662ee\td1b2c3d4-0001-4e01-9000-000000000001\tNone\tb1a0e1f2-1111-4c1a-9a10-0001d0b00101\tCarrie\tRomero\t2003-05-13\tFemale\tAsian\tMaster Degree\tBusiness & Management\tGeneration Z\n",
      "d220e7f4-91d9-11f0-87f9-e235d39662ee\td9a1a01a-0001-4a10-bb11-aaa000000001\tde9a1a01-1001-4a10-aaa1-0001d01a0001\tb1a0e1f2-1111-4c1a-9a10-0001d0b00101\tCarmen\tKlein\t2002-02-19\tFemale\tWhite\tBachelor Degree\tBusiness & Management\tGeneration Z\n",
      "dadcce08-91d9-11f0-87f9-e235d39662ee\ta0010a01-0001-4f01-9a01-01a000000001\tde9a1a01-1001-4a10-aaa1-0001d01a0001\tb1a0e1f2-1111-4c1a-9a10-0001d0b00101\tMichael\tSmith\t1994-08-05\tMale\tWhite\tBachelor Degree\tBusiness & Management\tMillennial\n",
      "*/\n",
      "==================================\u001b[1m Ai Message \u001b[0m==================================\n",
      "Tool Calls:\n",
      "  sql_db_query_checker (call_g5BhhJqHJaQ3zABfreiM0qWx)\n",
      " Call ID: call_g5BhhJqHJaQ3zABfreiM0qWx\n",
      "  Args:\n",
      "    query: SELECT b.name, COUNT(e.id) AS employee_count FROM business_units b LEFT JOIN employees e ON b.id = e.business_unit_id GROUP BY b.id LIMIT 5;\n",
      "=================================\u001b[1m Tool Message \u001b[0m=================================\n",
      "Name: sql_db_query_checker\n",
      "\n",
      "```sql\n",
      "SELECT b.name, COUNT(e.id) AS employee_count \n",
      "FROM business_units b \n",
      "LEFT JOIN employees e ON b.id = e.business_unit_id \n",
      "GROUP BY b.id \n",
      "LIMIT 5;\n",
      "```\n",
      "==================================\u001b[1m Ai Message \u001b[0m==================================\n",
      "Tool Calls:\n",
      "  sql_db_query (call_MzU81CDd0uX77UG9HurVpV7Y)\n",
      " Call ID: call_MzU81CDd0uX77UG9HurVpV7Y\n",
      "  Args:\n",
      "    query: SELECT b.name, COUNT(e.id) AS employee_count FROM business_units b LEFT JOIN employees e ON b.id = e.business_unit_id GROUP BY b.id LIMIT 5;\n",
      "=================================\u001b[1m Tool Message \u001b[0m=================================\n",
      "Name: sql_db_query\n",
      "\n",
      "[('Membership-Based Wholesale Club Division', 93), ('Domestic Retail Division', 10795), ('International Markets Division', 4746), ('Shared Services', 66)]\n",
      "=================================\u001b[1m Tool Message \u001b[0m=================================\n",
      "Name: AgentOutput\n",
      "\n",
      "Returning structured response: summary='The number of employees by business unit is as follows:\\n- Membership-Based Wholesale Club Division: 93 employees\\n- Domestic Retail Division: 10,795 employees\\n- International Markets Division: 4,746 employees\\n- Shared Services: 66 employees\\n\\nThese figures provide a view of how the workforce is distributed among different business sectors, with the Domestic Retail Division having the largest number of employees.' sql_query='SELECT b.name,\\n       COUNT(e.id) AS employee_count\\nFROM business_units b\\nLEFT JOIN employees e ON b.id = e.business_unit_id\\nGROUP BY b.id\\nLIMIT 5;' dataset='{\"data\": [[\"Membership-Based Wholesale Club Division\", 93], [\"Domestic Retail Division\", 10795], [\"International Markets Division\", 4746], [\"Shared Services\", 66]], \"columns\": [\"name\", \"employee_count\"]}' plotly_json_fig='{\"data\": [{\"type\": \"bar\", \"x\": [\"Membership-Based Wholesale Club Division\", \"Domestic Retail Division\", \"International Markets Division\", \"Shared Services\"], \"y\": [93, 10795, 4746, 66], \"text\": [93, 10795, 4746, 66], \"textposition\": \"auto\"}], \"layout\": {\"title\": \"Number of Employees by Business Unit\"}}'\n"
     ]
    }
   ],
   "source": [
    "from langchain_core.runnables import RunnableConfig\n",
    "\n",
    "\n",
    "inputs = {\n",
    "    \"messages\": [\n",
    "        {\n",
    "            \"role\": \"user\",\n",
    "            \"content\": \"show the number of employees by business unit\",\n",
    "        }\n",
    "    ]\n",
    "}\n",
    "\n",
    "user_config = RunnableConfig(\n",
    "    configurable={'thread_id': 'user_thread_id_1993'},\n",
    "    recursion_limit=40,\n",
    ")\n",
    "\n",
    "for step in agent.stream(inputs, config=user_config, stream_mode=\"values\"):\n",
    "    step[\"messages\"][-1].pretty_print()"
   ]
  },
  {
   "cell_type": "code",
   "execution_count": 18,
   "id": "487db463",
   "metadata": {},
   "outputs": [
    {
     "name": "stdout",
     "output_type": "stream",
     "text": [
      "Agent Response:\n",
      "The number of employees by business unit is as follows:\n",
      "- Membership-Based Wholesale Club Division: 93 employees\n",
      "- Domestic Retail Division: 10,795 employees\n",
      "- International Markets Division: 4,746 employees\n",
      "- Shared Services: 66 employees\n",
      "\n",
      "These figures provide a view of how the workforce is distributed among different business sectors, with the Domestic Retail Division having the largest number of employees.\n",
      "\n",
      "SQL Query Executed:\n",
      "```sql\n",
      "SELECT b.name,\n",
      "       COUNT(e.id) AS employee_count\n",
      "FROM business_units b\n",
      "LEFT JOIN employees e ON b.id = e.business_unit_id\n",
      "GROUP BY b.id\n",
      "LIMIT 5;\n",
      "```\n"
     ]
    },
    {
     "data": {
      "application/vnd.plotly.v1+json": {
       "config": {
        "plotlyServerURL": "https://plot.ly"
       },
       "data": [
        {
         "text": [
          "93",
          "10795",
          "4746",
          "66"
         ],
         "textposition": "auto",
         "type": "bar",
         "x": [
          "Membership-Based Wholesale Club Division",
          "Domestic Retail Division",
          "International Markets Division",
          "Shared Services"
         ],
         "y": [
          93,
          10795,
          4746,
          66
         ]
        }
       ],
       "layout": {
        "template": {
         "data": {
          "bar": [
           {
            "error_x": {
             "color": "#2a3f5f"
            },
            "error_y": {
             "color": "#2a3f5f"
            },
            "marker": {
             "line": {
              "color": "#E5ECF6",
              "width": 0.5
             },
             "pattern": {
              "fillmode": "overlay",
              "size": 10,
              "solidity": 0.2
             }
            },
            "type": "bar"
           }
          ],
          "barpolar": [
           {
            "marker": {
             "line": {
              "color": "#E5ECF6",
              "width": 0.5
             },
             "pattern": {
              "fillmode": "overlay",
              "size": 10,
              "solidity": 0.2
             }
            },
            "type": "barpolar"
           }
          ],
          "carpet": [
           {
            "aaxis": {
             "endlinecolor": "#2a3f5f",
             "gridcolor": "white",
             "linecolor": "white",
             "minorgridcolor": "white",
             "startlinecolor": "#2a3f5f"
            },
            "baxis": {
             "endlinecolor": "#2a3f5f",
             "gridcolor": "white",
             "linecolor": "white",
             "minorgridcolor": "white",
             "startlinecolor": "#2a3f5f"
            },
            "type": "carpet"
           }
          ],
          "choropleth": [
           {
            "colorbar": {
             "outlinewidth": 0,
             "ticks": ""
            },
            "type": "choropleth"
           }
          ],
          "contour": [
           {
            "colorbar": {
             "outlinewidth": 0,
             "ticks": ""
            },
            "colorscale": [
             [
              0,
              "#0d0887"
             ],
             [
              0.1111111111111111,
              "#46039f"
             ],
             [
              0.2222222222222222,
              "#7201a8"
             ],
             [
              0.3333333333333333,
              "#9c179e"
             ],
             [
              0.4444444444444444,
              "#bd3786"
             ],
             [
              0.5555555555555556,
              "#d8576b"
             ],
             [
              0.6666666666666666,
              "#ed7953"
             ],
             [
              0.7777777777777778,
              "#fb9f3a"
             ],
             [
              0.8888888888888888,
              "#fdca26"
             ],
             [
              1,
              "#f0f921"
             ]
            ],
            "type": "contour"
           }
          ],
          "contourcarpet": [
           {
            "colorbar": {
             "outlinewidth": 0,
             "ticks": ""
            },
            "type": "contourcarpet"
           }
          ],
          "heatmap": [
           {
            "colorbar": {
             "outlinewidth": 0,
             "ticks": ""
            },
            "colorscale": [
             [
              0,
              "#0d0887"
             ],
             [
              0.1111111111111111,
              "#46039f"
             ],
             [
              0.2222222222222222,
              "#7201a8"
             ],
             [
              0.3333333333333333,
              "#9c179e"
             ],
             [
              0.4444444444444444,
              "#bd3786"
             ],
             [
              0.5555555555555556,
              "#d8576b"
             ],
             [
              0.6666666666666666,
              "#ed7953"
             ],
             [
              0.7777777777777778,
              "#fb9f3a"
             ],
             [
              0.8888888888888888,
              "#fdca26"
             ],
             [
              1,
              "#f0f921"
             ]
            ],
            "type": "heatmap"
           }
          ],
          "histogram": [
           {
            "marker": {
             "pattern": {
              "fillmode": "overlay",
              "size": 10,
              "solidity": 0.2
             }
            },
            "type": "histogram"
           }
          ],
          "histogram2d": [
           {
            "colorbar": {
             "outlinewidth": 0,
             "ticks": ""
            },
            "colorscale": [
             [
              0,
              "#0d0887"
             ],
             [
              0.1111111111111111,
              "#46039f"
             ],
             [
              0.2222222222222222,
              "#7201a8"
             ],
             [
              0.3333333333333333,
              "#9c179e"
             ],
             [
              0.4444444444444444,
              "#bd3786"
             ],
             [
              0.5555555555555556,
              "#d8576b"
             ],
             [
              0.6666666666666666,
              "#ed7953"
             ],
             [
              0.7777777777777778,
              "#fb9f3a"
             ],
             [
              0.8888888888888888,
              "#fdca26"
             ],
             [
              1,
              "#f0f921"
             ]
            ],
            "type": "histogram2d"
           }
          ],
          "histogram2dcontour": [
           {
            "colorbar": {
             "outlinewidth": 0,
             "ticks": ""
            },
            "colorscale": [
             [
              0,
              "#0d0887"
             ],
             [
              0.1111111111111111,
              "#46039f"
             ],
             [
              0.2222222222222222,
              "#7201a8"
             ],
             [
              0.3333333333333333,
              "#9c179e"
             ],
             [
              0.4444444444444444,
              "#bd3786"
             ],
             [
              0.5555555555555556,
              "#d8576b"
             ],
             [
              0.6666666666666666,
              "#ed7953"
             ],
             [
              0.7777777777777778,
              "#fb9f3a"
             ],
             [
              0.8888888888888888,
              "#fdca26"
             ],
             [
              1,
              "#f0f921"
             ]
            ],
            "type": "histogram2dcontour"
           }
          ],
          "mesh3d": [
           {
            "colorbar": {
             "outlinewidth": 0,
             "ticks": ""
            },
            "type": "mesh3d"
           }
          ],
          "parcoords": [
           {
            "line": {
             "colorbar": {
              "outlinewidth": 0,
              "ticks": ""
             }
            },
            "type": "parcoords"
           }
          ],
          "pie": [
           {
            "automargin": true,
            "type": "pie"
           }
          ],
          "scatter": [
           {
            "fillpattern": {
             "fillmode": "overlay",
             "size": 10,
             "solidity": 0.2
            },
            "type": "scatter"
           }
          ],
          "scatter3d": [
           {
            "line": {
             "colorbar": {
              "outlinewidth": 0,
              "ticks": ""
             }
            },
            "marker": {
             "colorbar": {
              "outlinewidth": 0,
              "ticks": ""
             }
            },
            "type": "scatter3d"
           }
          ],
          "scattercarpet": [
           {
            "marker": {
             "colorbar": {
              "outlinewidth": 0,
              "ticks": ""
             }
            },
            "type": "scattercarpet"
           }
          ],
          "scattergeo": [
           {
            "marker": {
             "colorbar": {
              "outlinewidth": 0,
              "ticks": ""
             }
            },
            "type": "scattergeo"
           }
          ],
          "scattergl": [
           {
            "marker": {
             "colorbar": {
              "outlinewidth": 0,
              "ticks": ""
             }
            },
            "type": "scattergl"
           }
          ],
          "scattermap": [
           {
            "marker": {
             "colorbar": {
              "outlinewidth": 0,
              "ticks": ""
             }
            },
            "type": "scattermap"
           }
          ],
          "scattermapbox": [
           {
            "marker": {
             "colorbar": {
              "outlinewidth": 0,
              "ticks": ""
             }
            },
            "type": "scattermapbox"
           }
          ],
          "scatterpolar": [
           {
            "marker": {
             "colorbar": {
              "outlinewidth": 0,
              "ticks": ""
             }
            },
            "type": "scatterpolar"
           }
          ],
          "scatterpolargl": [
           {
            "marker": {
             "colorbar": {
              "outlinewidth": 0,
              "ticks": ""
             }
            },
            "type": "scatterpolargl"
           }
          ],
          "scatterternary": [
           {
            "marker": {
             "colorbar": {
              "outlinewidth": 0,
              "ticks": ""
             }
            },
            "type": "scatterternary"
           }
          ],
          "surface": [
           {
            "colorbar": {
             "outlinewidth": 0,
             "ticks": ""
            },
            "colorscale": [
             [
              0,
              "#0d0887"
             ],
             [
              0.1111111111111111,
              "#46039f"
             ],
             [
              0.2222222222222222,
              "#7201a8"
             ],
             [
              0.3333333333333333,
              "#9c179e"
             ],
             [
              0.4444444444444444,
              "#bd3786"
             ],
             [
              0.5555555555555556,
              "#d8576b"
             ],
             [
              0.6666666666666666,
              "#ed7953"
             ],
             [
              0.7777777777777778,
              "#fb9f3a"
             ],
             [
              0.8888888888888888,
              "#fdca26"
             ],
             [
              1,
              "#f0f921"
             ]
            ],
            "type": "surface"
           }
          ],
          "table": [
           {
            "cells": {
             "fill": {
              "color": "#EBF0F8"
             },
             "line": {
              "color": "white"
             }
            },
            "header": {
             "fill": {
              "color": "#C8D4E3"
             },
             "line": {
              "color": "white"
             }
            },
            "type": "table"
           }
          ]
         },
         "layout": {
          "annotationdefaults": {
           "arrowcolor": "#2a3f5f",
           "arrowhead": 0,
           "arrowwidth": 1
          },
          "autotypenumbers": "strict",
          "coloraxis": {
           "colorbar": {
            "outlinewidth": 0,
            "ticks": ""
           }
          },
          "colorscale": {
           "diverging": [
            [
             0,
             "#8e0152"
            ],
            [
             0.1,
             "#c51b7d"
            ],
            [
             0.2,
             "#de77ae"
            ],
            [
             0.3,
             "#f1b6da"
            ],
            [
             0.4,
             "#fde0ef"
            ],
            [
             0.5,
             "#f7f7f7"
            ],
            [
             0.6,
             "#e6f5d0"
            ],
            [
             0.7,
             "#b8e186"
            ],
            [
             0.8,
             "#7fbc41"
            ],
            [
             0.9,
             "#4d9221"
            ],
            [
             1,
             "#276419"
            ]
           ],
           "sequential": [
            [
             0,
             "#0d0887"
            ],
            [
             0.1111111111111111,
             "#46039f"
            ],
            [
             0.2222222222222222,
             "#7201a8"
            ],
            [
             0.3333333333333333,
             "#9c179e"
            ],
            [
             0.4444444444444444,
             "#bd3786"
            ],
            [
             0.5555555555555556,
             "#d8576b"
            ],
            [
             0.6666666666666666,
             "#ed7953"
            ],
            [
             0.7777777777777778,
             "#fb9f3a"
            ],
            [
             0.8888888888888888,
             "#fdca26"
            ],
            [
             1,
             "#f0f921"
            ]
           ],
           "sequentialminus": [
            [
             0,
             "#0d0887"
            ],
            [
             0.1111111111111111,
             "#46039f"
            ],
            [
             0.2222222222222222,
             "#7201a8"
            ],
            [
             0.3333333333333333,
             "#9c179e"
            ],
            [
             0.4444444444444444,
             "#bd3786"
            ],
            [
             0.5555555555555556,
             "#d8576b"
            ],
            [
             0.6666666666666666,
             "#ed7953"
            ],
            [
             0.7777777777777778,
             "#fb9f3a"
            ],
            [
             0.8888888888888888,
             "#fdca26"
            ],
            [
             1,
             "#f0f921"
            ]
           ]
          },
          "colorway": [
           "#636efa",
           "#EF553B",
           "#00cc96",
           "#ab63fa",
           "#FFA15A",
           "#19d3f3",
           "#FF6692",
           "#B6E880",
           "#FF97FF",
           "#FECB52"
          ],
          "font": {
           "color": "#2a3f5f"
          },
          "geo": {
           "bgcolor": "white",
           "lakecolor": "white",
           "landcolor": "#E5ECF6",
           "showlakes": true,
           "showland": true,
           "subunitcolor": "white"
          },
          "hoverlabel": {
           "align": "left"
          },
          "hovermode": "closest",
          "mapbox": {
           "style": "light"
          },
          "paper_bgcolor": "white",
          "plot_bgcolor": "#E5ECF6",
          "polar": {
           "angularaxis": {
            "gridcolor": "white",
            "linecolor": "white",
            "ticks": ""
           },
           "bgcolor": "#E5ECF6",
           "radialaxis": {
            "gridcolor": "white",
            "linecolor": "white",
            "ticks": ""
           }
          },
          "scene": {
           "xaxis": {
            "backgroundcolor": "#E5ECF6",
            "gridcolor": "white",
            "gridwidth": 2,
            "linecolor": "white",
            "showbackground": true,
            "ticks": "",
            "zerolinecolor": "white"
           },
           "yaxis": {
            "backgroundcolor": "#E5ECF6",
            "gridcolor": "white",
            "gridwidth": 2,
            "linecolor": "white",
            "showbackground": true,
            "ticks": "",
            "zerolinecolor": "white"
           },
           "zaxis": {
            "backgroundcolor": "#E5ECF6",
            "gridcolor": "white",
            "gridwidth": 2,
            "linecolor": "white",
            "showbackground": true,
            "ticks": "",
            "zerolinecolor": "white"
           }
          },
          "shapedefaults": {
           "line": {
            "color": "#2a3f5f"
           }
          },
          "ternary": {
           "aaxis": {
            "gridcolor": "white",
            "linecolor": "white",
            "ticks": ""
           },
           "baxis": {
            "gridcolor": "white",
            "linecolor": "white",
            "ticks": ""
           },
           "bgcolor": "#E5ECF6",
           "caxis": {
            "gridcolor": "white",
            "linecolor": "white",
            "ticks": ""
           }
          },
          "title": {
           "x": 0.05
          },
          "xaxis": {
           "automargin": true,
           "gridcolor": "white",
           "linecolor": "white",
           "ticks": "",
           "title": {
            "standoff": 15
           },
           "zerolinecolor": "white",
           "zerolinewidth": 2
          },
          "yaxis": {
           "automargin": true,
           "gridcolor": "white",
           "linecolor": "white",
           "ticks": "",
           "title": {
            "standoff": 15
           },
           "zerolinecolor": "white",
           "zerolinewidth": 2
          }
         }
        },
        "title": {
         "text": "Number of Employees by Business Unit"
        }
       }
      }
     },
     "metadata": {},
     "output_type": "display_data"
    }
   ],
   "source": [
    "import plotly.io as pio\n",
    "\n",
    "\n",
    "if \"structured_response\" in step:\n",
    "    response = AgentOutput.model_validate(step[\"structured_response\"])\n",
    "\n",
    "    print(f\"Agent Response:\\n{response.get_message()}\")\n",
    "\n",
    "    if response.plotly_json_fig:\n",
    "        fig = pio.from_json(response.plotly_json_fig, skip_invalid=True)\n",
    "        fig.show()"
   ]
  },
  {
   "cell_type": "markdown",
   "id": "eb2e4bb6",
   "metadata": {},
   "source": [
    "## Chainlit (Conversational AI UI)"
   ]
  },
  {
   "cell_type": "code",
   "execution_count": null,
   "id": "62a409c3",
   "metadata": {},
   "outputs": [],
   "source": []
  }
 ],
 "metadata": {
  "kernelspec": {
   "display_name": "Python 3",
   "language": "python",
   "name": "python3"
  },
  "language_info": {
   "codemirror_mode": {
    "name": "ipython",
    "version": 3
   },
   "file_extension": ".py",
   "mimetype": "text/x-python",
   "name": "python",
   "nbconvert_exporter": "python",
   "pygments_lexer": "ipython3",
   "version": "3.13.9"
  }
 },
 "nbformat": 4,
 "nbformat_minor": 5
}
